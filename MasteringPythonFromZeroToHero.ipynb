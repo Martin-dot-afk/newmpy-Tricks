{
 "cells": [
  {
   "cell_type": "markdown",
   "id": "cbe5bbe3",
   "metadata": {},
   "source": [
    "# This is Python Tutorial."
   ]
  },
  {
   "cell_type": "markdown",
   "id": "0ca65e6e",
   "metadata": {},
   "source": [
    "    This our first python program:It just started here."
   ]
  },
  {
   "cell_type": "code",
   "execution_count": 1,
   "id": "35029f11",
   "metadata": {},
   "outputs": [
    {
     "name": "stdout",
     "output_type": "stream",
     "text": [
      "Hellow world, is wando\n"
     ]
    }
   ],
   "source": [
    "print(\"Hellow world, is wando\")"
   ]
  },
  {
   "cell_type": "markdown",
   "id": "e022c77c",
   "metadata": {},
   "source": [
    "£a=b+c£"
   ]
  },
  {
   "cell_type": "markdown",
   "id": "492c4f4c",
   "metadata": {},
   "source": [
    "$a=c+y"
   ]
  },
  {
   "cell_type": "markdown",
   "id": "3aa79003",
   "metadata": {},
   "source": [
    "$v=m+n$"
   ]
  },
  {
   "cell_type": "markdown",
   "id": "5afa3048",
   "metadata": {},
   "source": [
    "variables"
   ]
  },
  {
   "cell_type": "code",
   "execution_count": 2,
   "id": "8bed110b",
   "metadata": {},
   "outputs": [],
   "source": [
    "x=4"
   ]
  },
  {
   "cell_type": "code",
   "execution_count": 3,
   "id": "7be0928e",
   "metadata": {},
   "outputs": [
    {
     "name": "stdout",
     "output_type": "stream",
     "text": [
      "x\t \n"
     ]
    }
   ],
   "source": [
    "%who"
   ]
  },
  {
   "cell_type": "code",
   "execution_count": 4,
   "id": "da447b13",
   "metadata": {},
   "outputs": [
    {
     "name": "stdout",
     "output_type": "stream",
     "text": [
      "Variable   Type    Data/Info\n",
      "----------------------------\n",
      "x          int     4\n"
     ]
    }
   ],
   "source": [
    "%whos"
   ]
  },
  {
   "cell_type": "code",
   "execution_count": 5,
   "id": "07d0c7ad",
   "metadata": {},
   "outputs": [
    {
     "name": "stdout",
     "output_type": "stream",
     "text": [
      "<class 'int'>\n"
     ]
    }
   ],
   "source": [
    "print(type (x))"
   ]
  },
  {
   "cell_type": "code",
   "execution_count": 6,
   "id": "5b50df75",
   "metadata": {},
   "outputs": [],
   "source": [
    "x=66.6"
   ]
  },
  {
   "cell_type": "code",
   "execution_count": 7,
   "id": "428c2a1f",
   "metadata": {},
   "outputs": [
    {
     "name": "stdout",
     "output_type": "stream",
     "text": [
      "Variable   Type     Data/Info\n",
      "-----------------------------\n",
      "x          float    66.6\n"
     ]
    }
   ],
   "source": [
    "%whos"
   ]
  },
  {
   "cell_type": "code",
   "execution_count": 8,
   "id": "d492a3bb",
   "metadata": {},
   "outputs": [],
   "source": [
    "abc=666.677"
   ]
  },
  {
   "cell_type": "code",
   "execution_count": 9,
   "id": "74dbe04b",
   "metadata": {},
   "outputs": [
    {
     "name": "stdout",
     "output_type": "stream",
     "text": [
      "Variable   Type     Data/Info\n",
      "-----------------------------\n",
      "abc        float    666.677\n",
      "x          float    66.6\n"
     ]
    }
   ],
   "source": [
    "%whos"
   ]
  },
  {
   "cell_type": "code",
   "execution_count": 10,
   "id": "0768ca06",
   "metadata": {},
   "outputs": [],
   "source": [
    "a,b,c,y,p=11,5,66.0,-12,33"
   ]
  },
  {
   "cell_type": "code",
   "execution_count": 11,
   "id": "eb883281",
   "metadata": {},
   "outputs": [
    {
     "name": "stdout",
     "output_type": "stream",
     "text": [
      "Variable   Type     Data/Info\n",
      "-----------------------------\n",
      "a          int      11\n",
      "abc        float    666.677\n",
      "b          int      5\n",
      "c          float    66.0\n",
      "p          int      33\n",
      "x          float    66.6\n",
      "y          int      -12\n"
     ]
    }
   ],
   "source": [
    "%whos"
   ]
  },
  {
   "cell_type": "code",
   "execution_count": 12,
   "id": "46dd9ab2",
   "metadata": {},
   "outputs": [],
   "source": [
    "del abc"
   ]
  },
  {
   "cell_type": "code",
   "execution_count": 13,
   "id": "33d1e841",
   "metadata": {},
   "outputs": [
    {
     "name": "stdout",
     "output_type": "stream",
     "text": [
      "Variable   Type     Data/Info\n",
      "-----------------------------\n",
      "a          int      11\n",
      "b          int      5\n",
      "c          float    66.0\n",
      "p          int      33\n",
      "x          float    66.6\n",
      "y          int      -12\n"
     ]
    }
   ],
   "source": [
    "%whos"
   ]
  },
  {
   "cell_type": "code",
   "execution_count": 14,
   "id": "0a7e8e68",
   "metadata": {},
   "outputs": [
    {
     "ename": "NameError",
     "evalue": "name 'abc' is not defined",
     "output_type": "error",
     "traceback": [
      "\u001b[1;31m---------------------------------------------------------------------------\u001b[0m",
      "\u001b[1;31mNameError\u001b[0m                                 Traceback (most recent call last)",
      "\u001b[1;32m~\\AppData\\Local\\Temp/ipykernel_632/1366517430.py\u001b[0m in \u001b[0;36m<module>\u001b[1;34m\u001b[0m\n\u001b[1;32m----> 1\u001b[1;33m \u001b[0mprint\u001b[0m \u001b[1;33m(\u001b[0m\u001b[0mabc\u001b[0m\u001b[1;33m)\u001b[0m\u001b[1;33m\u001b[0m\u001b[1;33m\u001b[0m\u001b[0m\n\u001b[0m",
      "\u001b[1;31mNameError\u001b[0m: name 'abc' is not defined"
     ]
    }
   ],
   "source": [
    "print (abc)"
   ]
  },
  {
   "cell_type": "code",
   "execution_count": 15,
   "id": "68dfc913",
   "metadata": {},
   "outputs": [
    {
     "ename": "NameError",
     "evalue": "name 'k' is not defined",
     "output_type": "error",
     "traceback": [
      "\u001b[1;31m---------------------------------------------------------------------------\u001b[0m",
      "\u001b[1;31mNameError\u001b[0m                                 Traceback (most recent call last)",
      "\u001b[1;32m~\\AppData\\Local\\Temp/ipykernel_632/3765196722.py\u001b[0m in \u001b[0;36m<module>\u001b[1;34m\u001b[0m\n\u001b[1;32m----> 1\u001b[1;33m \u001b[0mc\u001b[0m\u001b[1;33m=\u001b[0m\u001b[1;36m4\u001b[0m\u001b[1;33m+\u001b[0m\u001b[0mk\u001b[0m\u001b[1;33m\u001b[0m\u001b[1;33m\u001b[0m\u001b[0m\n\u001b[0m",
      "\u001b[1;31mNameError\u001b[0m: name 'k' is not defined"
     ]
    }
   ],
   "source": [
    "c=4+k"
   ]
  },
  {
   "cell_type": "code",
   "execution_count": 16,
   "id": "78a2f920",
   "metadata": {},
   "outputs": [
    {
     "ename": "SyntaxError",
     "evalue": "invalid syntax (Temp/ipykernel_632/206144568.py, line 1)",
     "output_type": "error",
     "traceback": [
      "\u001b[1;36m  File \u001b[1;32m\"C:\\Users\\OWNER\\AppData\\Local\\Temp/ipykernel_632/206144568.py\"\u001b[1;36m, line \u001b[1;32m1\u001b[0m\n\u001b[1;33m    c=4+6k\u001b[0m\n\u001b[1;37m         ^\u001b[0m\n\u001b[1;31mSyntaxError\u001b[0m\u001b[1;31m:\u001b[0m invalid syntax\n"
     ]
    }
   ],
   "source": [
    "c=4+6k"
   ]
  },
  {
   "cell_type": "code",
   "execution_count": 17,
   "id": "7b3f06b4",
   "metadata": {},
   "outputs": [
    {
     "ename": "SyntaxError",
     "evalue": "invalid syntax (Temp/ipykernel_632/176289635.py, line 1)",
     "output_type": "error",
     "traceback": [
      "\u001b[1;36m  File \u001b[1;32m\"C:\\Users\\OWNER\\AppData\\Local\\Temp/ipykernel_632/176289635.py\"\u001b[1;36m, line \u001b[1;32m1\u001b[0m\n\u001b[1;33m    c = 4+5k\u001b[0m\n\u001b[1;37m           ^\u001b[0m\n\u001b[1;31mSyntaxError\u001b[0m\u001b[1;31m:\u001b[0m invalid syntax\n"
     ]
    }
   ],
   "source": [
    "c = 4+5k"
   ]
  },
  {
   "cell_type": "code",
   "execution_count": 18,
   "id": "3204a3f0",
   "metadata": {},
   "outputs": [],
   "source": [
    "c = 6+3j"
   ]
  },
  {
   "cell_type": "code",
   "execution_count": 19,
   "id": "9624d90e",
   "metadata": {},
   "outputs": [
    {
     "name": "stdout",
     "output_type": "stream",
     "text": [
      "<class 'complex'>\n"
     ]
    }
   ],
   "source": [
    "print (type (c))"
   ]
  },
  {
   "cell_type": "code",
   "execution_count": 20,
   "id": "17c775ee",
   "metadata": {},
   "outputs": [],
   "source": [
    "s=\"hellow\""
   ]
  },
  {
   "cell_type": "code",
   "execution_count": 21,
   "id": "b2d59d51",
   "metadata": {},
   "outputs": [
    {
     "name": "stdout",
     "output_type": "stream",
     "text": [
      "<class 'str'>\n"
     ]
    }
   ],
   "source": [
    "print (type (s))"
   ]
  },
  {
   "cell_type": "markdown",
   "id": "7b746d4e",
   "metadata": {},
   "source": [
    "# operators"
   ]
  },
  {
   "cell_type": "code",
   "execution_count": 22,
   "id": "153d9f77",
   "metadata": {},
   "outputs": [
    {
     "name": "stdout",
     "output_type": "stream",
     "text": [
      "Variable   Type       Data/Info\n",
      "-------------------------------\n",
      "a          int        11\n",
      "b          int        5\n",
      "c          complex    (6+3j)\n",
      "p          int        33\n",
      "s          str        hellow\n",
      "x          float      66.6\n",
      "y          int        -12\n"
     ]
    }
   ],
   "source": [
    "%whos"
   ]
  },
  {
   "cell_type": "code",
   "execution_count": 23,
   "id": "c66e5b93",
   "metadata": {},
   "outputs": [],
   "source": [
    "sumOfaAndb = a+b"
   ]
  },
  {
   "cell_type": "code",
   "execution_count": 24,
   "id": "59c65045",
   "metadata": {},
   "outputs": [
    {
     "name": "stdout",
     "output_type": "stream",
     "text": [
      "16\n"
     ]
    }
   ],
   "source": [
    "print (sumOfaAndb)"
   ]
  },
  {
   "cell_type": "code",
   "execution_count": 25,
   "id": "0bce68f1",
   "metadata": {},
   "outputs": [
    {
     "data": {
      "text/plain": [
       "int"
      ]
     },
     "execution_count": 25,
     "metadata": {},
     "output_type": "execute_result"
    }
   ],
   "source": [
    "type(sumOfaAndb)"
   ]
  },
  {
   "cell_type": "code",
   "execution_count": 26,
   "id": "cfd76b7e",
   "metadata": {},
   "outputs": [
    {
     "data": {
      "text/plain": [
       "float"
      ]
     },
     "execution_count": 26,
     "metadata": {},
     "output_type": "execute_result"
    }
   ],
   "source": [
    "type (x+y)"
   ]
  },
  {
   "cell_type": "code",
   "execution_count": 27,
   "id": "67ffc2f1",
   "metadata": {},
   "outputs": [
    {
     "ename": "TypeError",
     "evalue": "5 argument after ** must be a mapping, not int",
     "output_type": "error",
     "traceback": [
      "\u001b[1;31m---------------------------------------------------------------------------\u001b[0m",
      "\u001b[1;31mTypeError\u001b[0m                                 Traceback (most recent call last)",
      "\u001b[1;32m~\\AppData\\Local\\Temp/ipykernel_632/658171963.py\u001b[0m in \u001b[0;36m<module>\u001b[1;34m\u001b[0m\n\u001b[1;32m----> 1\u001b[1;33m \u001b[0mv\u001b[0m\u001b[1;33m=\u001b[0m\u001b[1;33m(\u001b[0m\u001b[0ma\u001b[0m\u001b[1;33m+\u001b[0m\u001b[0mb\u001b[0m\u001b[1;33m(\u001b[0m\u001b[1;33m**\u001b[0m\u001b[1;36m3\u001b[0m\u001b[1;33m)\u001b[0m\u001b[1;33m/\u001b[0m\u001b[1;36m4\u001b[0m\u001b[1;33m)\u001b[0m\u001b[1;33m\u001b[0m\u001b[1;33m\u001b[0m\u001b[0m\n\u001b[0m",
      "\u001b[1;31mTypeError\u001b[0m: 5 argument after ** must be a mapping, not int"
     ]
    }
   ],
   "source": [
    "v=(a+b(**3)/4)"
   ]
  },
  {
   "cell_type": "code",
   "execution_count": 28,
   "id": "d77bfcd2",
   "metadata": {},
   "outputs": [],
   "source": [
    "v = ((a+b)**3)/4"
   ]
  },
  {
   "cell_type": "code",
   "execution_count": 29,
   "id": "d34696f7",
   "metadata": {},
   "outputs": [
    {
     "name": "stdout",
     "output_type": "stream",
     "text": [
      "1024.0\n"
     ]
    }
   ],
   "source": [
    "print (v)"
   ]
  },
  {
   "cell_type": "code",
   "execution_count": 30,
   "id": "912a0365",
   "metadata": {},
   "outputs": [
    {
     "data": {
      "text/plain": [
       "float"
      ]
     },
     "execution_count": 30,
     "metadata": {},
     "output_type": "execute_result"
    }
   ],
   "source": [
    "type (v)"
   ]
  },
  {
   "cell_type": "code",
   "execution_count": 31,
   "id": "c7058e32",
   "metadata": {},
   "outputs": [
    {
     "name": "stdout",
     "output_type": "stream",
     "text": [
      "hellow World of wando\n"
     ]
    }
   ],
   "source": [
    "s1=\"hellow \"\n",
    "s2=\"World of \"\n",
    "s3=\"wando\"\n",
    "s=s1+s2+s3\n",
    "print (s)"
   ]
  },
  {
   "cell_type": "markdown",
   "id": "5d888887",
   "metadata": {},
   "source": [
    "# Bool"
   ]
  },
  {
   "cell_type": "code",
   "execution_count": 32,
   "id": "e7d769e7",
   "metadata": {},
   "outputs": [],
   "source": [
    "a=True\n",
    "b=True\n",
    "c=False"
   ]
  },
  {
   "cell_type": "code",
   "execution_count": 33,
   "id": "e5d5c9bf",
   "metadata": {},
   "outputs": [
    {
     "name": "stdout",
     "output_type": "stream",
     "text": [
      "Variable     Type     Data/Info\n",
      "-------------------------------\n",
      "a            bool     True\n",
      "b            bool     True\n",
      "c            bool     False\n",
      "p            int      33\n",
      "s            str      hellow World of wando\n",
      "s1           str      hellow \n",
      "s2           str      World of \n",
      "s3           str      wando\n",
      "sumOfaAndb   int      16\n",
      "v            float    1024.0\n",
      "x            float    66.6\n",
      "y            int      -12\n"
     ]
    }
   ],
   "source": [
    "%whos"
   ]
  },
  {
   "cell_type": "code",
   "execution_count": 34,
   "id": "69690300",
   "metadata": {},
   "outputs": [
    {
     "ename": "SyntaxError",
     "evalue": "invalid syntax (Temp/ipykernel_632/2266916927.py, line 1)",
     "output_type": "error",
     "traceback": [
      "\u001b[1;36m  File \u001b[1;32m\"C:\\Users\\OWNER\\AppData\\Local\\Temp/ipykernel_632/2266916927.py\"\u001b[1;36m, line \u001b[1;32m1\u001b[0m\n\u001b[1;33m    print (a And b)\u001b[0m\n\u001b[1;37m             ^\u001b[0m\n\u001b[1;31mSyntaxError\u001b[0m\u001b[1;31m:\u001b[0m invalid syntax\n"
     ]
    }
   ],
   "source": [
    "print (a And b)\n",
    "print (a And c)"
   ]
  },
  {
   "cell_type": "code",
   "execution_count": 35,
   "id": "c67ff90b",
   "metadata": {},
   "outputs": [
    {
     "name": "stdout",
     "output_type": "stream",
     "text": [
      "True\n",
      "False\n",
      "False\n"
     ]
    }
   ],
   "source": [
    "print (a and b)\n",
    "print (a and c)\n",
    "print (c and b)"
   ]
  },
  {
   "cell_type": "code",
   "execution_count": 36,
   "id": "cd702f64",
   "metadata": {},
   "outputs": [
    {
     "name": "stdout",
     "output_type": "stream",
     "text": [
      "True\n"
     ]
    }
   ],
   "source": [
    "v = a or c\n",
    "print (v)"
   ]
  },
  {
   "cell_type": "code",
   "execution_count": 37,
   "id": "055a853c",
   "metadata": {},
   "outputs": [
    {
     "data": {
      "text/plain": [
       "False"
      ]
     },
     "execution_count": 37,
     "metadata": {},
     "output_type": "execute_result"
    }
   ],
   "source": [
    "not (a)"
   ]
  },
  {
   "cell_type": "code",
   "execution_count": 38,
   "id": "b20d4263",
   "metadata": {},
   "outputs": [
    {
     "data": {
      "text/plain": [
       "False"
      ]
     },
     "execution_count": 38,
     "metadata": {},
     "output_type": "execute_result"
    }
   ],
   "source": [
    "not (b)"
   ]
  },
  {
   "cell_type": "code",
   "execution_count": 39,
   "id": "304b4338",
   "metadata": {},
   "outputs": [
    {
     "data": {
      "text/plain": [
       "True"
      ]
     },
     "execution_count": 39,
     "metadata": {},
     "output_type": "execute_result"
    }
   ],
   "source": [
    "not (c)"
   ]
  },
  {
   "cell_type": "code",
   "execution_count": 40,
   "id": "f9ac3aec",
   "metadata": {},
   "outputs": [],
   "source": [
    "w=((a and b) or (c and v))"
   ]
  },
  {
   "cell_type": "code",
   "execution_count": 41,
   "id": "46745329",
   "metadata": {},
   "outputs": [
    {
     "name": "stdout",
     "output_type": "stream",
     "text": [
      "True\n"
     ]
    }
   ],
   "source": [
    "print (w)"
   ]
  },
  {
   "cell_type": "code",
   "execution_count": 42,
   "id": "a4e20573",
   "metadata": {},
   "outputs": [
    {
     "data": {
      "text/plain": [
       "bool"
      ]
     },
     "execution_count": 42,
     "metadata": {},
     "output_type": "execute_result"
    }
   ],
   "source": [
    "type (w)"
   ]
  },
  {
   "cell_type": "code",
   "execution_count": 43,
   "id": "59f07b53",
   "metadata": {},
   "outputs": [
    {
     "data": {
      "text/plain": [
       "False"
      ]
     },
     "execution_count": 43,
     "metadata": {},
     "output_type": "execute_result"
    }
   ],
   "source": [
    "not (w)"
   ]
  },
  {
   "cell_type": "markdown",
   "id": "24b72809",
   "metadata": {},
   "source": [
    "# Comparison "
   ]
  },
  {
   "cell_type": "code",
   "execution_count": 44,
   "id": "28481ea3",
   "metadata": {},
   "outputs": [],
   "source": [
    " c=2<3\n",
    "    "
   ]
  },
  {
   "cell_type": "code",
   "execution_count": 45,
   "id": "5fc31953",
   "metadata": {},
   "outputs": [
    {
     "name": "stdout",
     "output_type": "stream",
     "text": [
      "True\n"
     ]
    },
    {
     "data": {
      "text/plain": [
       "bool"
      ]
     },
     "execution_count": 45,
     "metadata": {},
     "output_type": "execute_result"
    }
   ],
   "source": [
    "c = 2<3\n",
    "print (c)\n",
    "type (c)"
   ]
  },
  {
   "cell_type": "code",
   "execution_count": 46,
   "id": "533667f9",
   "metadata": {},
   "outputs": [
    {
     "name": "stdout",
     "output_type": "stream",
     "text": [
      "False\n"
     ]
    },
    {
     "data": {
      "text/plain": [
       "bool"
      ]
     },
     "execution_count": 46,
     "metadata": {},
     "output_type": "execute_result"
    }
   ],
   "source": [
    "x = 3==8\n",
    "print (x)\n",
    "type (x)"
   ]
  },
  {
   "cell_type": "code",
   "execution_count": 47,
   "id": "50070f91",
   "metadata": {},
   "outputs": [
    {
     "data": {
      "text/plain": [
       "True"
      ]
     },
     "execution_count": 47,
     "metadata": {},
     "output_type": "execute_result"
    }
   ],
   "source": [
    "a = 8\n",
    "b = 20\n",
    "c = -5\n",
    "(a<b) and (b>c) or (c>a)"
   ]
  },
  {
   "cell_type": "code",
   "execution_count": 48,
   "id": "9987d956",
   "metadata": {},
   "outputs": [
    {
     "name": "stdout",
     "output_type": "stream",
     "text": [
      "False\n"
     ]
    }
   ],
   "source": [
    "print ((not (2!=3)and True) or (False and True))"
   ]
  },
  {
   "cell_type": "markdown",
   "id": "a720f5c8",
   "metadata": {},
   "source": [
    "# Functions"
   ]
  },
  {
   "cell_type": "code",
   "execution_count": 49,
   "id": "a64e5d03",
   "metadata": {},
   "outputs": [
    {
     "name": "stdout",
     "output_type": "stream",
     "text": [
      "6\n"
     ]
    }
   ],
   "source": [
    "print (round (5.5454))"
   ]
  },
  {
   "cell_type": "code",
   "execution_count": 50,
   "id": "1094c0ee",
   "metadata": {},
   "outputs": [
    {
     "name": "stdout",
     "output_type": "stream",
     "text": [
      "5.545\n"
     ]
    }
   ],
   "source": [
    "print (round (5.5454,3))"
   ]
  },
  {
   "cell_type": "code",
   "execution_count": 1,
   "id": "2ae8c0b7",
   "metadata": {},
   "outputs": [
    {
     "data": {
      "text/plain": [
       "(12, 1)"
      ]
     },
     "execution_count": 1,
     "metadata": {},
     "output_type": "execute_result"
    }
   ],
   "source": [
    "divmod (25,2)"
   ]
  },
  {
   "cell_type": "code",
   "execution_count": 6,
   "id": "758092b4",
   "metadata": {},
   "outputs": [
    {
     "data": {
      "text/plain": [
       "(7, 4)"
      ]
     },
     "execution_count": 6,
     "metadata": {},
     "output_type": "execute_result"
    }
   ],
   "source": [
    "divmod (39,5)"
   ]
  },
  {
   "cell_type": "code",
   "execution_count": 3,
   "id": "e3834ffb",
   "metadata": {},
   "outputs": [
    {
     "ename": "NameError",
     "evalue": "name 'm' is not defined",
     "output_type": "error",
     "traceback": [
      "\u001b[1;31m---------------------------------------------------------------------------\u001b[0m",
      "\u001b[1;31mNameError\u001b[0m                                 Traceback (most recent call last)",
      "\u001b[1;32m~\\AppData\\Local\\Temp/ipykernel_10484/666832629.py\u001b[0m in \u001b[0;36m<module>\u001b[1;34m\u001b[0m\n\u001b[1;32m----> 1\u001b[1;33m \u001b[0mprint\u001b[0m \u001b[1;33m(\u001b[0m\u001b[0mm\u001b[0m\u001b[1;33m)\u001b[0m\u001b[1;33m\u001b[0m\u001b[1;33m\u001b[0m\u001b[0m\n\u001b[0m",
      "\u001b[1;31mNameError\u001b[0m: name 'm' is not defined"
     ]
    }
   ],
   "source": [
    "print (m)"
   ]
  },
  {
   "cell_type": "code",
   "execution_count": 8,
   "id": "7a6c8073",
   "metadata": {},
   "outputs": [],
   "source": [
    "M = divmod (50,3)"
   ]
  },
  {
   "cell_type": "code",
   "execution_count": 9,
   "id": "feb499a2",
   "metadata": {},
   "outputs": [
    {
     "name": "stdout",
     "output_type": "stream",
     "text": [
      "(16, 2)\n"
     ]
    }
   ],
   "source": [
    "print (M)"
   ]
  },
  {
   "cell_type": "code",
   "execution_count": 10,
   "id": "5b28384e",
   "metadata": {},
   "outputs": [
    {
     "data": {
      "text/plain": [
       "tuple"
      ]
     },
     "execution_count": 10,
     "metadata": {},
     "output_type": "execute_result"
    }
   ],
   "source": [
    "type (M)"
   ]
  },
  {
   "cell_type": "code",
   "execution_count": 11,
   "id": "5fb94e36",
   "metadata": {},
   "outputs": [],
   "source": [
    "M = [0]"
   ]
  },
  {
   "cell_type": "code",
   "execution_count": 12,
   "id": "8e001b79",
   "metadata": {},
   "outputs": [
    {
     "data": {
      "text/plain": [
       "0"
      ]
     },
     "execution_count": 12,
     "metadata": {},
     "output_type": "execute_result"
    }
   ],
   "source": [
    "M[0]"
   ]
  },
  {
   "cell_type": "code",
   "execution_count": 13,
   "id": "24caaf15",
   "metadata": {},
   "outputs": [
    {
     "data": {
      "text/plain": [
       "0"
      ]
     },
     "execution_count": 13,
     "metadata": {},
     "output_type": "execute_result"
    }
   ],
   "source": [
    "M[ 0 ]"
   ]
  },
  {
   "cell_type": "code",
   "execution_count": 14,
   "id": "c7c35039",
   "metadata": {},
   "outputs": [
    {
     "name": "stdout",
     "output_type": "stream",
     "text": [
      "[0]\n"
     ]
    }
   ],
   "source": [
    "print (M)"
   ]
  },
  {
   "cell_type": "code",
   "execution_count": 15,
   "id": "385b9ecb",
   "metadata": {},
   "outputs": [
    {
     "name": "stderr",
     "output_type": "stream",
     "text": [
      "UsageError: Line magic function `%Whos` not found.\n"
     ]
    }
   ],
   "source": [
    "%Whos\n"
   ]
  },
  {
   "cell_type": "code",
   "execution_count": 16,
   "id": "f85bf266",
   "metadata": {},
   "outputs": [
    {
     "name": "stdout",
     "output_type": "stream",
     "text": [
      "Variable   Type     Data/Info\n",
      "-----------------------------\n",
      "M          list     n=1\n",
      "m          tuple    n=2\n"
     ]
    }
   ],
   "source": [
    "%whos"
   ]
  },
  {
   "cell_type": "code",
   "execution_count": 17,
   "id": "db84e0ca",
   "metadata": {},
   "outputs": [],
   "source": [
    "N =  divmod (30,4)"
   ]
  },
  {
   "cell_type": "code",
   "execution_count": 18,
   "id": "dd658c06",
   "metadata": {},
   "outputs": [
    {
     "name": "stdout",
     "output_type": "stream",
     "text": [
      "(7, 2)\n"
     ]
    }
   ],
   "source": [
    "print (N)"
   ]
  },
  {
   "cell_type": "code",
   "execution_count": 19,
   "id": "7c9b87ff",
   "metadata": {},
   "outputs": [
    {
     "data": {
      "text/plain": [
       "tuple"
      ]
     },
     "execution_count": 19,
     "metadata": {},
     "output_type": "execute_result"
    }
   ],
   "source": [
    "type (N)"
   ]
  },
  {
   "cell_type": "code",
   "execution_count": 20,
   "id": "fd92926b",
   "metadata": {},
   "outputs": [
    {
     "data": {
      "text/plain": [
       "7"
      ]
     },
     "execution_count": 20,
     "metadata": {},
     "output_type": "execute_result"
    }
   ],
   "source": [
    "N[0]"
   ]
  },
  {
   "cell_type": "code",
   "execution_count": 21,
   "id": "5f553ff5",
   "metadata": {},
   "outputs": [
    {
     "data": {
      "text/plain": [
       "2"
      ]
     },
     "execution_count": 21,
     "metadata": {},
     "output_type": "execute_result"
    }
   ],
   "source": [
    "N[1]"
   ]
  },
  {
   "cell_type": "code",
   "execution_count": 22,
   "id": "91a2ae23",
   "metadata": {},
   "outputs": [
    {
     "data": {
      "text/plain": [
       "True"
      ]
     },
     "execution_count": 22,
     "metadata": {},
     "output_type": "execute_result"
    }
   ],
   "source": [
    "isinstance(3,int)"
   ]
  },
  {
   "cell_type": "code",
   "execution_count": 23,
   "id": "17eda49c",
   "metadata": {},
   "outputs": [
    {
     "data": {
      "text/plain": [
       "False"
      ]
     },
     "execution_count": 23,
     "metadata": {},
     "output_type": "execute_result"
    }
   ],
   "source": [
    "isinstance (3.0,int)"
   ]
  },
  {
   "cell_type": "code",
   "execution_count": 24,
   "id": "1f841ccb",
   "metadata": {},
   "outputs": [
    {
     "data": {
      "text/plain": [
       "False"
      ]
     },
     "execution_count": 24,
     "metadata": {},
     "output_type": "execute_result"
    }
   ],
   "source": [
    "isinstance (3.45,int)"
   ]
  },
  {
   "cell_type": "code",
   "execution_count": 25,
   "id": "0c8c9d05",
   "metadata": {},
   "outputs": [
    {
     "ename": "SyntaxError",
     "evalue": "invalid syntax (Temp/ipykernel_10484/81193316.py, line 1)",
     "output_type": "error",
     "traceback": [
      "\u001b[1;36m  File \u001b[1;32m\"C:\\Users\\OWNER\\AppData\\Local\\Temp/ipykernel_10484/81193316.py\"\u001b[1;36m, line \u001b[1;32m1\u001b[0m\n\u001b[1;33m    isinstance (3w+2(int,float))\u001b[0m\n\u001b[1;37m                 ^\u001b[0m\n\u001b[1;31mSyntaxError\u001b[0m\u001b[1;31m:\u001b[0m invalid syntax\n"
     ]
    }
   ],
   "source": [
    "isinstance (3w+2(int,float))"
   ]
  },
  {
   "cell_type": "code",
   "execution_count": 27,
   "id": "47630e93",
   "metadata": {},
   "outputs": [
    {
     "ename": "SyntaxError",
     "evalue": "invalid syntax (Temp/ipykernel_10484/4229142122.py, line 1)",
     "output_type": "error",
     "traceback": [
      "\u001b[1;36m  File \u001b[1;32m\"C:\\Users\\OWNER\\AppData\\Local\\Temp/ipykernel_10484/4229142122.py\"\u001b[1;36m, line \u001b[1;32m1\u001b[0m\n\u001b[1;33m    isinstance (3w+2,(int, float))\u001b[0m\n\u001b[1;37m                 ^\u001b[0m\n\u001b[1;31mSyntaxError\u001b[0m\u001b[1;31m:\u001b[0m invalid syntax\n"
     ]
    }
   ],
   "source": [
    "isinstance (3w+2,(int, float))"
   ]
  },
  {
   "cell_type": "code",
   "execution_count": 29,
   "id": "2103c8df",
   "metadata": {},
   "outputs": [
    {
     "ename": "SyntaxError",
     "evalue": "invalid syntax (Temp/ipykernel_10484/2640023866.py, line 1)",
     "output_type": "error",
     "traceback": [
      "\u001b[1;36m  File \u001b[1;32m\"C:\\Users\\OWNER\\AppData\\Local\\Temp/ipykernel_10484/2640023866.py\"\u001b[1;36m, line \u001b[1;32m1\u001b[0m\n\u001b[1;33m    isinstance(2+3w,(int,float))\u001b[0m\n\u001b[1;37m                  ^\u001b[0m\n\u001b[1;31mSyntaxError\u001b[0m\u001b[1;31m:\u001b[0m invalid syntax\n"
     ]
    }
   ],
   "source": [
    "isinstance(2+3w,(int,float))"
   ]
  },
  {
   "cell_type": "code",
   "execution_count": 30,
   "id": "0ec13fee",
   "metadata": {},
   "outputs": [
    {
     "data": {
      "text/plain": [
       "False"
      ]
     },
     "execution_count": 30,
     "metadata": {},
     "output_type": "execute_result"
    }
   ],
   "source": [
    "isinstance(2j+5,(int,float)) "
   ]
  },
  {
   "cell_type": "code",
   "execution_count": 31,
   "id": "8db5e1e9",
   "metadata": {},
   "outputs": [
    {
     "data": {
      "text/plain": [
       "9"
      ]
     },
     "execution_count": 31,
     "metadata": {},
     "output_type": "execute_result"
    }
   ],
   "source": [
    "pow(3,2)"
   ]
  },
  {
   "cell_type": "code",
   "execution_count": 32,
   "id": "d3b2109a",
   "metadata": {},
   "outputs": [
    {
     "data": {
      "text/plain": [
       "9"
      ]
     },
     "execution_count": 32,
     "metadata": {},
     "output_type": "execute_result"
    }
   ],
   "source": [
    "3**2\n"
   ]
  },
  {
   "cell_type": "code",
   "execution_count": 33,
   "id": "70338736",
   "metadata": {},
   "outputs": [
    {
     "data": {
      "text/plain": [
       "0"
      ]
     },
     "execution_count": 33,
     "metadata": {},
     "output_type": "execute_result"
    }
   ],
   "source": [
    "pow(3,2,3)"
   ]
  },
  {
   "cell_type": "code",
   "execution_count": 34,
   "id": "c70982c8",
   "metadata": {},
   "outputs": [
    {
     "data": {
      "text/plain": [
       "1"
      ]
     },
     "execution_count": 34,
     "metadata": {},
     "output_type": "execute_result"
    }
   ],
   "source": [
    "pow(3,2,2)"
   ]
  },
  {
   "cell_type": "code",
   "execution_count": 35,
   "id": "a3b3f4f4",
   "metadata": {},
   "outputs": [
    {
     "data": {
      "text/plain": [
       "25"
      ]
     },
     "execution_count": 35,
     "metadata": {},
     "output_type": "execute_result"
    }
   ],
   "source": [
    "pow(5,2)"
   ]
  },
  {
   "cell_type": "code",
   "execution_count": 36,
   "id": "f30a819d",
   "metadata": {},
   "outputs": [
    {
     "data": {
      "text/plain": [
       "4"
      ]
     },
     "execution_count": 36,
     "metadata": {},
     "output_type": "execute_result"
    }
   ],
   "source": [
    "pow(5,2,7)"
   ]
  },
  {
   "cell_type": "code",
   "execution_count": 37,
   "id": "19699fa6",
   "metadata": {},
   "outputs": [
    {
     "name": "stdout",
     "output_type": "stream",
     "text": [
      "Enter a number:555\n"
     ]
    }
   ],
   "source": [
    "x=input(\"Enter a number:\")"
   ]
  },
  {
   "cell_type": "code",
   "execution_count": 38,
   "id": "8e3e9db1",
   "metadata": {},
   "outputs": [
    {
     "data": {
      "text/plain": [
       "str"
      ]
     },
     "execution_count": 38,
     "metadata": {},
     "output_type": "execute_result"
    }
   ],
   "source": [
    "type (x)"
   ]
  },
  {
   "cell_type": "code",
   "execution_count": 39,
   "id": "fd6c07ee",
   "metadata": {},
   "outputs": [],
   "source": [
    "int=int(x)"
   ]
  },
  {
   "cell_type": "code",
   "execution_count": 40,
   "id": "6b5459bc",
   "metadata": {},
   "outputs": [
    {
     "data": {
      "text/plain": [
       "str"
      ]
     },
     "execution_count": 40,
     "metadata": {},
     "output_type": "execute_result"
    }
   ],
   "source": [
    "type (x)"
   ]
  },
  {
   "cell_type": "code",
   "execution_count": 41,
   "id": "8d3fc982",
   "metadata": {},
   "outputs": [
    {
     "ename": "TypeError",
     "evalue": "'int' object is not callable",
     "output_type": "error",
     "traceback": [
      "\u001b[1;31m---------------------------------------------------------------------------\u001b[0m",
      "\u001b[1;31mTypeError\u001b[0m                                 Traceback (most recent call last)",
      "\u001b[1;32m~\\AppData\\Local\\Temp/ipykernel_10484/979016686.py\u001b[0m in \u001b[0;36m<module>\u001b[1;34m\u001b[0m\n\u001b[1;32m----> 1\u001b[1;33m \u001b[0mint\u001b[0m \u001b[1;33m=\u001b[0m \u001b[0mint\u001b[0m\u001b[1;33m(\u001b[0m\u001b[0mx\u001b[0m\u001b[1;33m)\u001b[0m\u001b[1;33m\u001b[0m\u001b[1;33m\u001b[0m\u001b[0m\n\u001b[0m",
      "\u001b[1;31mTypeError\u001b[0m: 'int' object is not callable"
     ]
    }
   ],
   "source": [
    "int = int(x)"
   ]
  },
  {
   "cell_type": "code",
   "execution_count": 42,
   "id": "88c93414",
   "metadata": {},
   "outputs": [
    {
     "ename": "TypeError",
     "evalue": "'int' object is not callable",
     "output_type": "error",
     "traceback": [
      "\u001b[1;31m---------------------------------------------------------------------------\u001b[0m",
      "\u001b[1;31mTypeError\u001b[0m                                 Traceback (most recent call last)",
      "\u001b[1;32m~\\AppData\\Local\\Temp/ipykernel_10484/3177401239.py\u001b[0m in \u001b[0;36m<module>\u001b[1;34m\u001b[0m\n\u001b[1;32m----> 1\u001b[1;33m \u001b[0mx\u001b[0m\u001b[1;33m=\u001b[0m\u001b[0mint\u001b[0m\u001b[1;33m(\u001b[0m\u001b[0mx\u001b[0m\u001b[1;33m)\u001b[0m\u001b[1;33m\u001b[0m\u001b[1;33m\u001b[0m\u001b[0m\n\u001b[0m",
      "\u001b[1;31mTypeError\u001b[0m: 'int' object is not callable"
     ]
    }
   ],
   "source": [
    "x=int(x)"
   ]
  },
  {
   "cell_type": "code",
   "execution_count": 43,
   "id": "ca4d6e1d",
   "metadata": {},
   "outputs": [
    {
     "ename": "TypeError",
     "evalue": "'int' object is not callable",
     "output_type": "error",
     "traceback": [
      "\u001b[1;31m---------------------------------------------------------------------------\u001b[0m",
      "\u001b[1;31mTypeError\u001b[0m                                 Traceback (most recent call last)",
      "\u001b[1;32m~\\AppData\\Local\\Temp/ipykernel_10484/2740137384.py\u001b[0m in \u001b[0;36m<module>\u001b[1;34m\u001b[0m\n\u001b[1;32m----> 1\u001b[1;33m \u001b[0mx\u001b[0m \u001b[1;33m=\u001b[0m \u001b[0mint\u001b[0m\u001b[1;33m(\u001b[0m\u001b[0mx\u001b[0m\u001b[1;33m)\u001b[0m\u001b[1;33m\u001b[0m\u001b[1;33m\u001b[0m\u001b[0m\n\u001b[0m",
      "\u001b[1;31mTypeError\u001b[0m: 'int' object is not callable"
     ]
    }
   ],
   "source": [
    "x = int(x)"
   ]
  },
  {
   "cell_type": "code",
   "execution_count": 44,
   "id": "8013f018",
   "metadata": {},
   "outputs": [
    {
     "name": "stdout",
     "output_type": "stream",
     "text": [
      "Variable   Type     Data/Info\n",
      "-----------------------------\n",
      "M          list     n=1\n",
      "N          tuple    n=2\n",
      "int        int      555\n",
      "m          tuple    n=2\n",
      "x          str      555\n"
     ]
    }
   ],
   "source": [
    "%whos"
   ]
  },
  {
   "cell_type": "code",
   "execution_count": 45,
   "id": "d8c88a70",
   "metadata": {},
   "outputs": [
    {
     "data": {
      "text/plain": [
       "str"
      ]
     },
     "execution_count": 45,
     "metadata": {},
     "output_type": "execute_result"
    }
   ],
   "source": [
    "type(x)"
   ]
  },
  {
   "cell_type": "code",
   "execution_count": 46,
   "id": "5da1c896",
   "metadata": {},
   "outputs": [
    {
     "ename": "TypeError",
     "evalue": "'int' object is not callable",
     "output_type": "error",
     "traceback": [
      "\u001b[1;31m---------------------------------------------------------------------------\u001b[0m",
      "\u001b[1;31mTypeError\u001b[0m                                 Traceback (most recent call last)",
      "\u001b[1;32m~\\AppData\\Local\\Temp/ipykernel_10484/2740137384.py\u001b[0m in \u001b[0;36m<module>\u001b[1;34m\u001b[0m\n\u001b[1;32m----> 1\u001b[1;33m \u001b[0mx\u001b[0m \u001b[1;33m=\u001b[0m \u001b[0mint\u001b[0m\u001b[1;33m(\u001b[0m\u001b[0mx\u001b[0m\u001b[1;33m)\u001b[0m\u001b[1;33m\u001b[0m\u001b[1;33m\u001b[0m\u001b[0m\n\u001b[0m",
      "\u001b[1;31mTypeError\u001b[0m: 'int' object is not callable"
     ]
    }
   ],
   "source": [
    "x = int(x)"
   ]
  },
  {
   "cell_type": "code",
   "execution_count": 47,
   "id": "baf2362c",
   "metadata": {},
   "outputs": [
    {
     "ename": "NameError",
     "evalue": "name 'X' is not defined",
     "output_type": "error",
     "traceback": [
      "\u001b[1;31m---------------------------------------------------------------------------\u001b[0m",
      "\u001b[1;31mNameError\u001b[0m                                 Traceback (most recent call last)",
      "\u001b[1;32m~\\AppData\\Local\\Temp/ipykernel_10484/802592820.py\u001b[0m in \u001b[0;36m<module>\u001b[1;34m\u001b[0m\n\u001b[1;32m----> 1\u001b[1;33m \u001b[0mX\u001b[0m \u001b[1;33m=\u001b[0m \u001b[0mint\u001b[0m\u001b[1;33m(\u001b[0m\u001b[0mX\u001b[0m\u001b[1;33m)\u001b[0m\u001b[1;33m\u001b[0m\u001b[1;33m\u001b[0m\u001b[0m\n\u001b[0m",
      "\u001b[1;31mNameError\u001b[0m: name 'X' is not defined"
     ]
    }
   ],
   "source": [
    "X = int(X)"
   ]
  },
  {
   "cell_type": "code",
   "execution_count": 48,
   "id": "8968b405",
   "metadata": {},
   "outputs": [
    {
     "ename": "NameError",
     "evalue": "name 'X' is not defined",
     "output_type": "error",
     "traceback": [
      "\u001b[1;31m---------------------------------------------------------------------------\u001b[0m",
      "\u001b[1;31mNameError\u001b[0m                                 Traceback (most recent call last)",
      "\u001b[1;32m~\\AppData\\Local\\Temp/ipykernel_10484/1259869570.py\u001b[0m in \u001b[0;36m<module>\u001b[1;34m\u001b[0m\n\u001b[1;32m----> 1\u001b[1;33m \u001b[0mx\u001b[0m \u001b[1;33m=\u001b[0m \u001b[0mint\u001b[0m\u001b[1;33m(\u001b[0m\u001b[0mX\u001b[0m\u001b[1;33m)\u001b[0m\u001b[1;33m\u001b[0m\u001b[1;33m\u001b[0m\u001b[0m\n\u001b[0m",
      "\u001b[1;31mNameError\u001b[0m: name 'X' is not defined"
     ]
    }
   ],
   "source": [
    "x = int(X)"
   ]
  },
  {
   "cell_type": "code",
   "execution_count": 49,
   "id": "f7efc011",
   "metadata": {},
   "outputs": [
    {
     "ename": "TypeError",
     "evalue": "'int' object is not callable",
     "output_type": "error",
     "traceback": [
      "\u001b[1;31m---------------------------------------------------------------------------\u001b[0m",
      "\u001b[1;31mTypeError\u001b[0m                                 Traceback (most recent call last)",
      "\u001b[1;32m~\\AppData\\Local\\Temp/ipykernel_10484/2634977587.py\u001b[0m in \u001b[0;36m<module>\u001b[1;34m\u001b[0m\n\u001b[1;32m----> 1\u001b[1;33m \u001b[0mX\u001b[0m \u001b[1;33m=\u001b[0m \u001b[0mint\u001b[0m\u001b[1;33m(\u001b[0m\u001b[0mx\u001b[0m\u001b[1;33m)\u001b[0m\u001b[1;33m\u001b[0m\u001b[1;33m\u001b[0m\u001b[0m\n\u001b[0m",
      "\u001b[1;31mTypeError\u001b[0m: 'int' object is not callable"
     ]
    }
   ],
   "source": [
    "X = int(x)"
   ]
  },
  {
   "cell_type": "code",
   "execution_count": 50,
   "id": "8c44ffae",
   "metadata": {},
   "outputs": [
    {
     "ename": "TypeError",
     "evalue": "'int' object is not callable",
     "output_type": "error",
     "traceback": [
      "\u001b[1;31m---------------------------------------------------------------------------\u001b[0m",
      "\u001b[1;31mTypeError\u001b[0m                                 Traceback (most recent call last)",
      "\u001b[1;32m~\\AppData\\Local\\Temp/ipykernel_10484/2300829376.py\u001b[0m in \u001b[0;36m<module>\u001b[1;34m\u001b[0m\n\u001b[1;32m----> 1\u001b[1;33m \u001b[0mX\u001b[0m \u001b[1;33m=\u001b[0m \u001b[0mint\u001b[0m \u001b[1;33m(\u001b[0m\u001b[0mx\u001b[0m\u001b[1;33m)\u001b[0m\u001b[1;33m\u001b[0m\u001b[1;33m\u001b[0m\u001b[0m\n\u001b[0m",
      "\u001b[1;31mTypeError\u001b[0m: 'int' object is not callable"
     ]
    }
   ],
   "source": [
    "X = int (x)"
   ]
  },
  {
   "cell_type": "code",
   "execution_count": 51,
   "id": "32a53173",
   "metadata": {},
   "outputs": [
    {
     "ename": "NameError",
     "evalue": "name 'a' is not defined",
     "output_type": "error",
     "traceback": [
      "\u001b[1;31m---------------------------------------------------------------------------\u001b[0m",
      "\u001b[1;31mNameError\u001b[0m                                 Traceback (most recent call last)",
      "\u001b[1;32m~\\AppData\\Local\\Temp/ipykernel_10484/4079649108.py\u001b[0m in \u001b[0;36m<module>\u001b[1;34m\u001b[0m\n\u001b[1;32m----> 1\u001b[1;33m \u001b[0mtype\u001b[0m\u001b[1;33m(\u001b[0m\u001b[0ma\u001b[0m\u001b[1;33m)\u001b[0m\u001b[1;33m\u001b[0m\u001b[1;33m\u001b[0m\u001b[0m\n\u001b[0m",
      "\u001b[1;31mNameError\u001b[0m: name 'a' is not defined"
     ]
    }
   ],
   "source": [
    "type(a)"
   ]
  },
  {
   "cell_type": "code",
   "execution_count": 52,
   "id": "fc0f8fb5",
   "metadata": {},
   "outputs": [
    {
     "name": "stdout",
     "output_type": "stream",
     "text": [
      "Enter a real number:25.585\n"
     ]
    }
   ],
   "source": [
    "a=float(input(\"Enter a real number:\"))"
   ]
  },
  {
   "cell_type": "code",
   "execution_count": 53,
   "id": "dd5180db",
   "metadata": {},
   "outputs": [
    {
     "data": {
      "text/plain": [
       "float"
      ]
     },
     "execution_count": 53,
     "metadata": {},
     "output_type": "execute_result"
    }
   ],
   "source": [
    "type(a)"
   ]
  },
  {
   "cell_type": "code",
   "execution_count": 54,
   "id": "1cdab355",
   "metadata": {},
   "outputs": [
    {
     "name": "stdout",
     "output_type": "stream",
     "text": [
      "Enter a real number:55\n"
     ]
    }
   ],
   "source": [
    "b=float (input(\"Enter a real number:\"))"
   ]
  },
  {
   "cell_type": "code",
   "execution_count": 55,
   "id": "1c88f85a",
   "metadata": {},
   "outputs": [
    {
     "name": "stdout",
     "output_type": "stream",
     "text": [
      "Enter a real number:acf\n"
     ]
    },
    {
     "ename": "ValueError",
     "evalue": "could not convert string to float: 'acf'",
     "output_type": "error",
     "traceback": [
      "\u001b[1;31m---------------------------------------------------------------------------\u001b[0m",
      "\u001b[1;31mValueError\u001b[0m                                Traceback (most recent call last)",
      "\u001b[1;32m~\\AppData\\Local\\Temp/ipykernel_10484/3764473760.py\u001b[0m in \u001b[0;36m<module>\u001b[1;34m\u001b[0m\n\u001b[1;32m----> 1\u001b[1;33m \u001b[0mc\u001b[0m\u001b[1;33m=\u001b[0m\u001b[0mfloat\u001b[0m \u001b[1;33m(\u001b[0m\u001b[0minput\u001b[0m\u001b[1;33m(\u001b[0m\u001b[1;34m\"Enter a real number:\"\u001b[0m\u001b[1;33m)\u001b[0m\u001b[1;33m)\u001b[0m\u001b[1;33m\u001b[0m\u001b[1;33m\u001b[0m\u001b[0m\n\u001b[0m",
      "\u001b[1;31mValueError\u001b[0m: could not convert string to float: 'acf'"
     ]
    }
   ],
   "source": [
    "c=float (input(\"Enter a real number:\"))"
   ]
  },
  {
   "cell_type": "code",
   "execution_count": 1,
   "id": "d767b353",
   "metadata": {},
   "outputs": [],
   "source": [
    "pow?"
   ]
  },
  {
   "cell_type": "code",
   "execution_count": null,
   "id": "26327802",
   "metadata": {},
   "outputs": [],
   "source": []
  },
  {
   "cell_type": "code",
   "execution_count": 5,
   "id": "1c5577b1",
   "metadata": {},
   "outputs": [
    {
     "ename": "SyntaxError",
     "evalue": "invalid syntax (Temp/ipykernel_1928/3057515288.py, line 1)",
     "output_type": "error",
     "traceback": [
      "\u001b[1;36m  File \u001b[1;32m\"C:\\Users\\OWNER\\AppData\\Local\\Temp/ipykernel_1928/3057515288.py\"\u001b[1;36m, line \u001b[1;32m1\u001b[0m\n\u001b[1;33m    input ?\u001b[0m\n\u001b[1;37m          ^\u001b[0m\n\u001b[1;31mSyntaxError\u001b[0m\u001b[1;31m:\u001b[0m invalid syntax\n"
     ]
    }
   ],
   "source": [
    "input ?"
   ]
  },
  {
   "cell_type": "code",
   "execution_count": 6,
   "id": "0161e9c7",
   "metadata": {},
   "outputs": [],
   "source": [
    "pow?"
   ]
  },
  {
   "cell_type": "code",
   "execution_count": null,
   "id": "8b4c17af",
   "metadata": {},
   "outputs": [],
   "source": [
    "a=int(input ())\n",
    "b=int (input ())\n",
    "if b>a:\n",
    "    print (b)\n",
    "    "
   ]
  },
  {
   "cell_type": "code",
   "execution_count": null,
   "id": "c69e8e01",
   "metadata": {},
   "outputs": [],
   "source": [
    "a=int (input ())\n",
    "b=int (input ())\n",
    "if b>a:\n",
    "    print (b)"
   ]
  },
  {
   "cell_type": "code",
   "execution_count": null,
   "id": "c017a140",
   "metadata": {},
   "outputs": [],
   "source": [
    "w = int(input ())\n",
    "x = int(input ())\n",
    "if x>w:\n",
    "    print (x)\n",
    "    print (\"only the biggest number \")"
   ]
  },
  {
   "cell_type": "code",
   "execution_count": null,
   "id": "09fa315a",
   "metadata": {},
   "outputs": [],
   "source": []
  },
  {
   "cell_type": "code",
   "execution_count": null,
   "id": "43bd4573",
   "metadata": {},
   "outputs": [],
   "source": []
  },
  {
   "cell_type": "code",
   "execution_count": null,
   "id": "6b455073",
   "metadata": {},
   "outputs": [],
   "source": [
    "a = int(input ())\n",
    "b = int(input ())\n",
    "if a>b:\n",
    "    print (a)\n",
    "if b>a:\n",
    "    print (b)\n",
    "    "
   ]
  },
  {
   "cell_type": "code",
   "execution_count": null,
   "id": "34c28fd5",
   "metadata": {},
   "outputs": [],
   "source": []
  },
  {
   "cell_type": "code",
   "execution_count": null,
   "id": "c6eb87a3",
   "metadata": {},
   "outputs": [],
   "source": [
    "a = int(input ())\n",
    "b = int (input ())\n",
    "if a>b:\n",
    "    print (a)\n",
    "else:\n",
    "    print (b)"
   ]
  },
  {
   "cell_type": "code",
   "execution_count": null,
   "id": "1c769ac3",
   "metadata": {},
   "outputs": [],
   "source": [
    "22\n",
    "50\n"
   ]
  },
  {
   "cell_type": "code",
   "execution_count": null,
   "id": "3c9f03a5",
   "metadata": {},
   "outputs": [],
   "source": [
    "a=1\n",
    "b=5\n",
    "if a==b:\n",
    "    print (\"Equal\")\n",
    "elif a>b:\n",
    "    print (\"A\")\n",
    "else:\n",
    "    print (\"B\")\n",
    "print (\"No in if\")"
   ]
  },
  {
   "cell_type": "markdown",
   "id": "4ee40f90",
   "metadata": {},
   "source": [
    "# program to print out grades of students "
   ]
  },
  {
   "cell_type": "code",
   "execution_count": 3,
   "id": "b14ad715",
   "metadata": {},
   "outputs": [
    {
     "name": "stdout",
     "output_type": "stream",
     "text": [
      "Enter the marks:22\n",
      "Fail\n"
     ]
    }
   ],
   "source": [
    "a = int (input (\"Enter the marks:\"))\n",
    "if a >= 80:\n",
    "    print (\"A grade\")\n",
    "elif (a < 80 ) and (a >= 70):\n",
    "    print (\"B Grade\")\n",
    "elif (a < 70) and (a >=60):\n",
    "    print (\"C Grade \")\n",
    "elif (a < 60) and (a >= 50):\n",
    "    print (\"Pass\")\n",
    "elif (a < 50) and (a >= 40):\n",
    "    print (\"Average \")\n",
    "elif ( a < 40) and (a >= 30):\n",
    "    print (\"Below Average \")\n",
    "else :\n",
    "    print (\"Fail\")"
   ]
  },
  {
   "cell_type": "markdown",
   "id": "6eff08c2",
   "metadata": {},
   "source": [
    "# Nested IF (_is IF inside another IF)"
   ]
  },
  {
   "cell_type": "code",
   "execution_count": null,
   "id": "3b08a18f",
   "metadata": {},
   "outputs": [],
   "source": [
    "a = int (input (\"Enter number \"))\n",
    "if a > 30:\n",
    "    print (\">30\")\n",
    "    print (\"inside top IF\")\n",
    "    if a > 40:\n",
    "        print (\">40\")\n",
    "        print (\"inside Nested IF\")\n",
    "        if a > 50:\n",
    "            print (\">50\")\n",
    "            print (\"inside Nested IF of the Nested IF\")\n",
    "        else:\n",
    "            print (\"<=50\") \n",
    "            \n",
    "    else:\n",
    "        print(\"<=40\")\n",
    "        print (\"inside the else part of the Nested If\")\n",
    "print (\"outside of all IFS\")"
   ]
  },
  {
   "cell_type": "code",
   "execution_count": 4,
   "id": "f0d6b38c",
   "metadata": {},
   "outputs": [
    {
     "name": "stdout",
     "output_type": "stream",
     "text": [
      "Enter number 55\n",
      ">30\n",
      "inside top IF\n",
      ">40\n",
      "inside Nested IF\n",
      ">50\n",
      "inside Nested IF of the Nested IF\n",
      "outside of all IFS\n"
     ]
    }
   ],
   "source": [
    "a = int (input (\"Enter number \"))\n",
    "if a > 30:\n",
    "    print (\">30\")\n",
    "    print (\"inside top IF\")\n",
    "    if a > 40:\n",
    "        print (\">40\")\n",
    "        print (\"inside Nested IF\")\n",
    "        if a > 50:\n",
    "            print (\">50\")\n",
    "            print (\"inside Nested IF of the Nested IF\")\n",
    "        else:\n",
    "            print (\"<=50\") \n",
    "            print (\"inside Nested If of the Nested If\")\n",
    "            \n",
    "    else:\n",
    "        print(\"<=40\")\n",
    "        print (\"inside the else part of the Nested If\")\n",
    "print (\"outside of all IFS\")"
   ]
  },
  {
   "cell_type": "code",
   "execution_count": 14,
   "id": "1163ba51",
   "metadata": {},
   "outputs": [
    {
     "name": "stdout",
     "output_type": "stream",
     "text": [
      "Enter a real number :-55.56\n",
      "Odd\n"
     ]
    }
   ],
   "source": [
    "# single  line comments\n",
    "\"\"\"\n",
    "User will enter a floating point number let say 258.639.Task is to find out the porton before the point (in this case 258)\n",
    "and then check out if that portion of integer is even or not ?\n",
    "\"\"\"\n",
    "\n",
    "x = float  (input(\"Enter a real number :\"))\n",
    "y = round (x)\n",
    "\n",
    "if x > 0:\n",
    "    if y > x:    \n",
    "        intportion = y-1  # 26.99(27-1)\n",
    "    else:\n",
    "        \n",
    "        intportion=y\n",
    "    \n",
    "else:\n",
    "    if y < x:\n",
    "        \n",
    "    \n",
    "        intportion = y+1\n",
    "    else:\n",
    "        intportion=y\n",
    "        \n",
    "if intportion %2==0:\n",
    "    print (\"Even\")\n",
    "    \n",
    "else:\n",
    "    print (\"Odd\")\n",
    "        \n",
    "\n"
   ]
  },
  {
   "cell_type": "code",
   "execution_count": null,
   "id": "508e3e03",
   "metadata": {},
   "outputs": [],
   "source": []
  },
  {
   "cell_type": "code",
   "execution_count": 19,
   "id": "1ff5c274",
   "metadata": {},
   "outputs": [
    {
     "name": "stdout",
     "output_type": "stream",
     "text": [
      "5\n",
      "1\n",
      "This is Iteration number:  1\n",
      "4\n",
      "This is Iteration number:  2\n",
      "9\n",
      "This is Iteration number:  3\n",
      "16\n",
      "This is Iteration number:  4\n",
      "Done\n"
     ]
    }
   ],
   "source": [
    "x = int (input ())\n",
    "i = 1\n",
    "while (i < x):\n",
    "    print (i**2) #square  of i\n",
    "    print (\"This is Iteration number: \" ,i)\n",
    "    i+=1  # (i=i+1)\n",
    "\n",
    "print (\"Done\")"
   ]
  },
  {
   "cell_type": "code",
   "execution_count": null,
   "id": "5b4a3146",
   "metadata": {},
   "outputs": [],
   "source": []
  }
 ],
 "metadata": {
  "kernelspec": {
   "display_name": "Python 3 (ipykernel)",
   "language": "python",
   "name": "python3"
  },
  "language_info": {
   "codemirror_mode": {
    "name": "ipython",
    "version": 3
   },
   "file_extension": ".py",
   "mimetype": "text/x-python",
   "name": "python",
   "nbconvert_exporter": "python",
   "pygments_lexer": "ipython3",
   "version": "3.9.10"
  }
 },
 "nbformat": 4,
 "nbformat_minor": 5
}
